{
 "cells": [
  {
   "cell_type": "code",
   "execution_count": 1,
   "outputs": [],
   "source": [
    "import numpy as np\n",
    "import matplotlib.pyplot as plt\n",
    "from sklearn.model_selection import train_test_split\n",
    "from models.regression.MLPRegressionCustom import MLP\n",
    "from models.metrics.regression import RMSE, MSE, MAE\n",
    "from sklearn.preprocessing import MinMaxScaler"
   ],
   "metadata": {
    "collapsed": false,
    "pycharm": {
     "name": "#%%\n"
    }
   }
  },
  {
   "cell_type": "code",
   "execution_count": 2,
   "outputs": [],
   "source": [
    "df = np.genfromtxt('./concrete.csv', delimiter=',')\n",
    "X = df[:, :-1]\n",
    "y = df[:, -1].reshape(-1, 1)\n",
    "\n",
    "X = MinMaxScaler().fit_transform(X)\n",
    "y = MinMaxScaler().fit_transform(y)"
   ],
   "metadata": {
    "collapsed": false,
    "pycharm": {
     "name": "#%%\n"
    }
   }
  },
  {
   "cell_type": "markdown",
   "source": [
    "### Train Test Split"
   ],
   "metadata": {
    "collapsed": false,
    "pycharm": {
     "name": "#%% md\n"
    }
   }
  },
  {
   "cell_type": "code",
   "execution_count": 3,
   "outputs": [],
   "source": [
    "X_train, X_test, y_train, y_test = train_test_split(X, y, test_size=0.20, random_state=1)\n",
    "_X_train, X_val, _y_train, y_val = train_test_split(X_train, y_train, test_size=0.25, random_state=1)"
   ],
   "metadata": {
    "collapsed": false,
    "pycharm": {
     "name": "#%%\n"
    }
   }
  },
  {
   "cell_type": "code",
   "execution_count": 4,
   "outputs": [
    {
     "name": "stdout",
     "output_type": "stream",
     "text": [
      "Iteration:  0  Error:  317.04213331841544\n",
      "Iteration:  100  Error:  12.650882438618137\n",
      "Neuronios: 3 Learning Rate: 0.1, Momentum: 0.3. Score: 4.01774379653854\n",
      "Iteration:  0  Error:  13.72225461384686\n",
      "Iteration:  100  Error:  12.77581046082076\n",
      "Neuronios: 3 Learning Rate: 0.1, Momentum: 0.4. Score: 4.1342971066098535\n",
      "Iteration:  0  Error:  35.89833528950237\n",
      "Iteration:  100  Error:  10.354620505228514\n",
      "Neuronios: 3 Learning Rate: 0.1, Momentum: 0.9. Score: 2.537402764702824\n",
      "Iteration:  0  Error:  41.51831283557495\n",
      "Iteration:  100  Error:  15.667471073409963\n",
      "Neuronios: 3 Learning Rate: 0.15, Momentum: 0.3. Score: 4.954960537545304\n",
      "Iteration:  0  Error:  631.2433665314811\n",
      "Iteration:  100  Error:  12.949946775089064\n",
      "Neuronios: 3 Learning Rate: 0.15, Momentum: 0.4. Score: 4.22136048457328\n",
      "Iteration:  0  Error:  24.34175517754148\n",
      "Iteration:  100  Error:  9.56738674700383\n",
      "Neuronios: 3 Learning Rate: 0.15, Momentum: 0.9. Score: 2.062868633776195\n",
      "Iteration:  0  Error:  29.650479918292543\n",
      "Iteration:  100  Error:  14.1983450653842\n",
      "Neuronios: 3 Learning Rate: 0.25, Momentum: 0.3. Score: 4.582368561548012\n",
      "Iteration:  0  Error:  52.562161493927455\n",
      "Iteration:  100  Error:  13.211620844943813\n",
      "Neuronios: 3 Learning Rate: 0.25, Momentum: 0.4. Score: 4.085637309520494\n",
      "Iteration:  0  Error:  394.81651498132385\n",
      "Iteration:  100  Error:  13.000850015381857\n",
      "Neuronios: 3 Learning Rate: 0.25, Momentum: 0.9. Score: 3.1884126598053566\n",
      "Iteration:  0  Error:  468.6561904741795\n",
      "Iteration:  100  Error:  13.843609072113903\n",
      "Neuronios: 3 Learning Rate: 0.4, Momentum: 0.3. Score: 4.502013721231229\n",
      "Iteration:  0  Error:  23.24210219169207\n",
      "Iteration:  100  Error:  10.67210355268564\n",
      "Neuronios: 3 Learning Rate: 0.4, Momentum: 0.4. Score: 2.7963354739306476\n",
      "Iteration:  0  Error:  35.36802572206164\n",
      "Iteration:  100  Error:  5.435141181385406\n",
      "Neuronios: 3 Learning Rate: 0.4, Momentum: 0.9. Score: 1.7322815793972561\n",
      "Iteration:  0  Error:  366.9434124434826\n",
      "Iteration:  100  Error:  13.637006269908253\n",
      "Neuronios: 5 Learning Rate: 0.1, Momentum: 0.3. Score: 4.469643079827153\n",
      "Iteration:  0  Error:  108.58116987598078\n",
      "Iteration:  100  Error:  13.323086945897876\n",
      "Neuronios: 5 Learning Rate: 0.1, Momentum: 0.4. Score: 4.326605043643513\n",
      "Iteration:  0  Error:  35.57457870063253\n",
      "Iteration:  100  Error:  10.81352189286852\n",
      "Neuronios: 5 Learning Rate: 0.1, Momentum: 0.9. Score: 2.937226738144209\n",
      "Iteration:  0  Error:  18.998432112353676\n",
      "Iteration:  100  Error:  13.282192772479181\n",
      "Neuronios: 5 Learning Rate: 0.15, Momentum: 0.3. Score: 4.138324393766531\n",
      "Iteration:  0  Error:  14.163884816881932\n",
      "Iteration:  100  Error:  13.549426706742612\n",
      "Neuronios: 5 Learning Rate: 0.15, Momentum: 0.4. Score: 4.354210779681333\n",
      "Iteration:  0  Error:  216.24120070844037\n",
      "Iteration:  100  Error:  11.359288641325776\n",
      "Neuronios: 5 Learning Rate: 0.15, Momentum: 0.9. Score: 2.400625709908025\n",
      "Iteration:  0  Error:  40.834703610328276\n",
      "Iteration:  100  Error:  12.602648988511755\n",
      "Neuronios: 5 Learning Rate: 0.25, Momentum: 0.3. Score: 3.833222810261003\n",
      "Iteration:  0  Error:  432.08414113562674\n",
      "Iteration:  100  Error:  12.81676714405564\n",
      "Neuronios: 5 Learning Rate: 0.25, Momentum: 0.4. Score: 4.009797398470767\n",
      "Iteration:  0  Error:  27.565868692392748\n",
      "Iteration:  100  Error:  9.34396353638276\n",
      "Neuronios: 5 Learning Rate: 0.25, Momentum: 0.9. Score: 1.986760606306789\n",
      "Iteration:  0  Error:  61.25500085462947\n",
      "Iteration:  100  Error:  13.23359388144134\n",
      "Neuronios: 5 Learning Rate: 0.4, Momentum: 0.3. Score: 4.0397453179017955\n",
      "Iteration:  0  Error:  41.512293558902215\n",
      "Iteration:  100  Error:  13.002243942043437\n",
      "Neuronios: 5 Learning Rate: 0.4, Momentum: 0.4. Score: 3.802655855828587\n",
      "Iteration:  0  Error:  14.279174513980465\n",
      "Iteration:  100  Error:  5.784515443292475\n",
      "Neuronios: 5 Learning Rate: 0.4, Momentum: 0.9. Score: 1.7385703380890778\n",
      "Iteration:  0  Error:  61.98306119747197\n",
      "Iteration:  100  Error:  13.363409281130284\n",
      "Neuronios: 10 Learning Rate: 0.1, Momentum: 0.3. Score: 4.364381636884886\n",
      "Iteration:  0  Error:  160.73968727194296\n",
      "Iteration:  100  Error:  12.763454355843589\n",
      "Neuronios: 10 Learning Rate: 0.1, Momentum: 0.4. Score: 4.188220504503468\n",
      "Iteration:  0  Error:  113.07653012127267\n",
      "Iteration:  100  Error:  10.177326992399205\n",
      "Neuronios: 10 Learning Rate: 0.1, Momentum: 0.9. Score: 2.364623908511259\n",
      "Iteration:  0  Error:  60.30357679910948\n",
      "Iteration:  100  Error:  13.268628581391528\n",
      "Neuronios: 10 Learning Rate: 0.15, Momentum: 0.3. Score: 4.296103455680944\n",
      "Iteration:  0  Error:  52.796924046736116\n",
      "Iteration:  100  Error:  11.923023616503786\n",
      "Neuronios: 10 Learning Rate: 0.15, Momentum: 0.4. Score: 3.6144517129109572\n",
      "Iteration:  0  Error:  28.02711339112269\n",
      "Iteration:  100  Error:  7.485764228514053\n",
      "Neuronios: 10 Learning Rate: 0.15, Momentum: 0.9. Score: 1.953211035665408\n",
      "Iteration:  0  Error:  16.55463008467349\n",
      "Iteration:  100  Error:  12.985368618985284\n",
      "Neuronios: 10 Learning Rate: 0.25, Momentum: 0.3. Score: 3.9142681429156365\n",
      "Iteration:  0  Error:  140.97224087622004\n",
      "Iteration:  100  Error:  12.39507194099496\n",
      "Neuronios: 10 Learning Rate: 0.25, Momentum: 0.4. Score: 3.781091733374902\n",
      "Iteration:  0  Error:  224.76112284758653\n",
      "Iteration:  100  Error:  7.205769282640551\n",
      "Neuronios: 10 Learning Rate: 0.25, Momentum: 0.9. Score: 1.8303668141831875\n",
      "Iteration:  0  Error:  174.4408064651929\n",
      "Iteration:  100  Error:  12.179246853193632\n",
      "Neuronios: 10 Learning Rate: 0.4, Momentum: 0.3. Score: 3.56440092022871\n",
      "Iteration:  0  Error:  14.84733737380306\n",
      "Iteration:  100  Error:  11.542724017054363\n",
      "Neuronios: 10 Learning Rate: 0.4, Momentum: 0.4. Score: 3.0897372243596912\n",
      "Iteration:  0  Error:  237.97393436047173\n",
      "Iteration:  100  Error:  6.565440684037936\n",
      "Neuronios: 10 Learning Rate: 0.4, Momentum: 0.9. Score: 1.7562771393195118\n",
      "Iteration:  0  Error:  14.402490502908815\n",
      "Iteration:  100  Error:  13.804247522108644\n",
      "Neuronios: 15 Learning Rate: 0.1, Momentum: 0.3. Score: 4.474222910893577\n",
      "Iteration:  0  Error:  139.0840131094261\n",
      "Iteration:  100  Error:  12.87345517409343\n",
      "Neuronios: 15 Learning Rate: 0.1, Momentum: 0.4. Score: 4.091795572375234\n",
      "Iteration:  0  Error:  90.86534653549842\n",
      "Iteration:  100  Error:  8.492108481655762\n",
      "Neuronios: 15 Learning Rate: 0.1, Momentum: 0.9. Score: 2.3315743150086012\n",
      "Iteration:  0  Error:  21.552254975395712\n",
      "Iteration:  100  Error:  12.391725212772455\n",
      "Neuronios: 15 Learning Rate: 0.15, Momentum: 0.3. Score: 3.818209336562643\n",
      "Iteration:  0  Error:  19.718659036380117\n",
      "Iteration:  100  Error:  12.716431093604916\n",
      "Neuronios: 15 Learning Rate: 0.15, Momentum: 0.4. Score: 3.9700248399710922\n",
      "Iteration:  0  Error:  47.85440415446313\n",
      "Iteration:  100  Error:  8.728312214290696\n",
      "Neuronios: 15 Learning Rate: 0.15, Momentum: 0.9. Score: 2.0367436541840527\n",
      "Iteration:  0  Error:  102.21169695420322\n",
      "Iteration:  100  Error:  11.937334740452275\n",
      "Neuronios: 15 Learning Rate: 0.25, Momentum: 0.3. Score: 3.628488948654762\n",
      "Iteration:  0  Error:  64.95832690996113\n",
      "Iteration:  100  Error:  13.106672714705436\n",
      "Neuronios: 15 Learning Rate: 0.25, Momentum: 0.4. Score: 4.023778323272893\n",
      "Iteration:  0  Error:  246.35085730322612\n",
      "Iteration:  100  Error:  7.471327430181621\n",
      "Neuronios: 15 Learning Rate: 0.25, Momentum: 0.9. Score: 1.9894248055411115\n",
      "Iteration:  0  Error:  42.04729706757174\n",
      "Iteration:  100  Error:  11.877781475165463\n",
      "Neuronios: 15 Learning Rate: 0.4, Momentum: 0.3. Score: 3.2369710856858025\n",
      "Iteration:  0  Error:  42.530158766167894\n",
      "Iteration:  100  Error:  10.72601586464549\n",
      "Neuronios: 15 Learning Rate: 0.4, Momentum: 0.4. Score: 2.755481935492128\n",
      "Iteration:  0  Error:  82.05581461009365\n",
      "Iteration:  100  Error:  5.2625420140103865\n",
      "Neuronios: 15 Learning Rate: 0.4, Momentum: 0.9. Score: 1.7348706445912225\n"
     ]
    }
   ],
   "source": [
    "neuronios = [3, 5, 10, 15]\n",
    "learning_rate = [0.1, 0.15, 0.25, 0.4]\n",
    "momentum = [0.3, 0.4, 0.9]\n",
    "\n",
    "result = []\n",
    "\n",
    "elected = None\n",
    "\n",
    "for n in neuronios:\n",
    "    for l in learning_rate:\n",
    "        for m in momentum:\n",
    "            net = MLP(_X_train, _y_train, n, eta=l, niterations=200, momentum=m, outtype=\"linear\")\n",
    "            net.fit(_X_train, _y_train, X_val, y_val)\n",
    "            result.append([net, np.min(net.errors_valid)])\n",
    "            print(\"Neuronios: {} Learning Rate: {}, Momentum: {}. Score: {}\".format(n, l, m, np.min(net.errors_valid)))\n",
    "\n",
    "elected = result[np.argmin(np.array(result)[:, 1])][0]"
   ],
   "metadata": {
    "collapsed": false,
    "pycharm": {
     "name": "#%%\n"
    }
   }
  },
  {
   "cell_type": "code",
   "execution_count": 5,
   "outputs": [
    {
     "name": "stdout",
     "output_type": "stream",
     "text": [
      "Iteration:  0  Error:  0.4405718455720409\n",
      "Iteration:  100  Error:  0.15491819424426925\n",
      "Iteration:  200  Error:  0.1269192343466937\n"
     ]
    },
    {
     "data": {
      "text/plain": "<Figure size 432x288 with 1 Axes>",
      "image/png": "[encoded data removed]"
     },
     "metadata": {
      "needs_background": "light"
     },
     "output_type": "display_data"
    },
    {
     "name": "stdout",
     "output_type": "stream",
     "text": [
      "Iteration:  0  Error:  1.695261060113862\n",
      "Iteration:  100  Error:  0.04379071887849314\n",
      "Iteration:  200  Error:  0.04340638485005536\n"
     ]
    },
    {
     "data": {
      "text/plain": "<Figure size 432x288 with 1 Axes>",
      "image/png": "[encoded data removed]"
     },
     "metadata": {
      "needs_background": "light"
     },
     "output_type": "display_data"
    },
    {
     "name": "stdout",
     "output_type": "stream",
     "text": [
      "Iteration:  0  Error:  0.2989406985198796\n",
      "Iteration:  100  Error:  0.11750568972076092\n",
      "Iteration:  200  Error:  0.10216868796295289\n"
     ]
    },
    {
     "data": {
      "text/plain": "<Figure size 432x288 with 1 Axes>",
      "image/png": "[encoded data removed]"
     },
     "metadata": {
      "needs_background": "light"
     },
     "output_type": "display_data"
    }
   ],
   "source": [
    "metrics = [\n",
    "    (\"RMSE\", RMSE()),\n",
    "    (\"MSE\", MSE()),\n",
    "    (\"MSE\", MAE())\n",
    "]\n",
    "\n",
    "for name, metric in metrics:\n",
    "    net = MLP(_X_train, _y_train, elected.nhidden, eta=elected.eta, niterations=201, momentum=elected.momentum,outtype=\"linear\", metric=metric)\n",
    "    net.fit(_X_train, _y_train, X_test, y_test)\n",
    "    plt.plot(net.errors_valid)\n",
    "    plt.plot(net.errors_train)\n",
    "    plt.show()"
   ],
   "metadata": {
    "collapsed": false,
    "pycharm": {
     "name": "#%%\n"
    }
   }
  },
  {
   "cell_type": "code",
   "execution_count": null,
   "outputs": [],
   "source": [],
   "metadata": {
    "collapsed": false,
    "pycharm": {
     "name": "#%%\n"
    }
   }
  }
 ],
 "metadata": {
  "kernelspec": {
   "display_name": "Python 3",
   "language": "python",
   "name": "python3"
  },
  "language_info": {
   "codemirror_mode": {
    "name": "ipython",
    "version": 2
   },
   "file_extension": ".py",
   "mimetype": "text/x-python",
   "name": "python",
   "nbconvert_exporter": "python",
   "pygments_lexer": "ipython2",
   "version": "2.7.6"
  }
 },
 "nbformat": 4,
 "nbformat_minor": 0
}