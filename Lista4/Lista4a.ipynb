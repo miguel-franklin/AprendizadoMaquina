{
 "cells": [
  {
   "cell_type": "code",
   "execution_count": 8,
   "outputs": [],
   "source": [
    "import numpy as np\n",
    "import matplotlib.pyplot as plt\n",
    "from sklearn.model_selection import train_test_split\n",
    "from models.regression.MLPRegressionCustom import MLP\n",
    "from models.metrics.regression import RMSE, MSE, MAE\n",
    "from sklearn.preprocessing import MinMaxScaler"
   ],
   "metadata": {
    "collapsed": false,
    "pycharm": {
     "name": "#%%\n"
    }
   }
  },
  {
   "cell_type": "code",
   "execution_count": 9,
   "outputs": [],
   "source": [
    "df = np.genfromtxt('./concrete.csv', delimiter=',')\n",
    "X = df[:, :-1]\n",
    "y = df[:, -1].reshape(-1, 1)\n",
    "\n",
    "X = MinMaxScaler().fit_transform(X)\n",
    "y = MinMaxScaler().fit_transform(y)"
   ],
   "metadata": {
    "collapsed": false,
    "pycharm": {
     "name": "#%%\n"
    }
   }
  },
  {
   "cell_type": "markdown",
   "source": [
    "### Train Test Split"
   ],
   "metadata": {
    "collapsed": false,
    "pycharm": {
     "name": "#%% md\n"
    }
   }
  },
  {
   "cell_type": "code",
   "execution_count": 10,
   "outputs": [],
   "source": [
    "X_train, X_test, y_train, y_test = train_test_split(X, y, test_size=0.20, random_state=1)\n",
    "_X_train, X_val, _y_train, y_val = train_test_split(X_train, y_train, test_size=0.25, random_state=1)"
   ],
   "metadata": {
    "collapsed": false,
    "pycharm": {
     "name": "#%%\n"
    }
   }
  },
  {
   "cell_type": "code",
   "execution_count": 11,
   "outputs": [
    {
     "name": "stdout",
     "output_type": "stream",
     "text": [
      "Iteration:  0  Error:  63.985685831598346\n",
      "Iteration:  100  Error:  13.638887226252644\n",
      "Neuronios: 3 Learning Rate: 0.1, Momentum: 0.3. Score: 4.454029353093462\n",
      "Iteration:  0  Error:  341.8922996796566\n",
      "Iteration:  100  Error:  13.319787736039213\n",
      "Neuronios: 3 Learning Rate: 0.1, Momentum: 0.4. Score: 4.31935325061832\n",
      "Iteration:  0  Error:  96.40427217475789\n",
      "Iteration:  100  Error:  10.723656635662724\n",
      "Neuronios: 3 Learning Rate: 0.1, Momentum: 0.9. Score: 2.5657826596881996\n",
      "Iteration:  0  Error:  37.06514542672549\n",
      "Iteration:  100  Error:  13.409520447001595\n",
      "Neuronios: 3 Learning Rate: 0.15, Momentum: 0.3. Score: 4.351061187148573\n",
      "Iteration:  0  Error:  197.90619766446923\n",
      "Iteration:  100  Error:  12.144646835501513\n",
      "Neuronios: 3 Learning Rate: 0.15, Momentum: 0.4. Score: 3.844342569189143\n",
      "Iteration:  0  Error:  72.50362121963056\n",
      "Iteration:  100  Error:  9.428535937489741\n",
      "Neuronios: 3 Learning Rate: 0.15, Momentum: 0.9. Score: 2.1479522517683325\n",
      "Iteration:  0  Error:  109.20926348033368\n",
      "Iteration:  100  Error:  13.349641226724323\n",
      "Neuronios: 3 Learning Rate: 0.25, Momentum: 0.3. Score: 4.347515366931202\n",
      "Iteration:  0  Error:  21.357771722533755\n",
      "Iteration:  100  Error:  12.847357133927554\n",
      "Neuronios: 3 Learning Rate: 0.25, Momentum: 0.4. Score: 4.007369319485073\n",
      "Iteration:  0  Error:  70.8094631288271\n",
      "Iteration:  100  Error:  9.687245069434688\n",
      "Neuronios: 3 Learning Rate: 0.25, Momentum: 0.9. Score: 2.059228183259242\n",
      "Iteration:  0  Error:  289.75869218220276\n",
      "Iteration:  100  Error:  12.810304361717355\n",
      "Neuronios: 3 Learning Rate: 0.4, Momentum: 0.3. Score: 3.958596493862265\n",
      "Iteration:  0  Error:  298.24150519994026\n",
      "Iteration:  100  Error:  13.301737887433756\n",
      "Neuronios: 3 Learning Rate: 0.4, Momentum: 0.4. Score: 4.112125072095961\n",
      "Iteration:  0  Error:  314.05492056272743\n",
      "Iteration:  100  Error:  12.598847298296379\n",
      "Neuronios: 3 Learning Rate: 0.4, Momentum: 0.9. Score: 2.253591495612632\n",
      "Iteration:  0  Error:  111.7947413875755\n",
      "Iteration:  100  Error:  13.722317348482632\n",
      "Neuronios: 5 Learning Rate: 0.1, Momentum: 0.3. Score: 4.414372857512514\n",
      "Iteration:  0  Error:  341.1260502138583\n",
      "Iteration:  100  Error:  13.929394977172997\n",
      "Neuronios: 5 Learning Rate: 0.1, Momentum: 0.4. Score: 4.562182337083206\n",
      "Iteration:  0  Error:  25.539708704655695\n",
      "Iteration:  100  Error:  12.114313163480888\n",
      "Neuronios: 5 Learning Rate: 0.1, Momentum: 0.9. Score: 3.18590905504732\n",
      "Iteration:  0  Error:  81.57508535750901\n",
      "Iteration:  100  Error:  13.835678617701479\n",
      "Neuronios: 5 Learning Rate: 0.15, Momentum: 0.3. Score: 4.522046147703598\n",
      "Iteration:  0  Error:  47.06113316286947\n",
      "Iteration:  100  Error:  12.060416113719782\n",
      "Neuronios: 5 Learning Rate: 0.15, Momentum: 0.4. Score: 3.7632967928767442\n",
      "Iteration:  0  Error:  26.92592882921531\n",
      "Iteration:  100  Error:  10.339487291598235\n",
      "Neuronios: 5 Learning Rate: 0.15, Momentum: 0.9. Score: 2.395451431386274\n",
      "Iteration:  0  Error:  13.879398305502937\n",
      "Iteration:  100  Error:  12.659936537379235\n",
      "Neuronios: 5 Learning Rate: 0.25, Momentum: 0.3. Score: 3.9329251493099155\n",
      "Iteration:  0  Error:  184.0381620276618\n",
      "Iteration:  100  Error:  12.053462169828855\n",
      "Neuronios: 5 Learning Rate: 0.25, Momentum: 0.4. Score: 3.542738262656405\n",
      "Iteration:  0  Error:  61.2988369649238\n",
      "Iteration:  100  Error:  9.461970531636775\n",
      "Neuronios: 5 Learning Rate: 0.25, Momentum: 0.9. Score: 1.9565505893088577\n",
      "Iteration:  0  Error:  49.056754526373794\n",
      "Iteration:  100  Error:  12.199599186550834\n",
      "Neuronios: 5 Learning Rate: 0.4, Momentum: 0.3. Score: 3.63051246401408\n",
      "Iteration:  0  Error:  19.888539455354003\n",
      "Iteration:  100  Error:  11.821582192924055\n",
      "Neuronios: 5 Learning Rate: 0.4, Momentum: 0.4. Score: 3.3254205331911786\n",
      "Iteration:  0  Error:  21.870202170657027\n",
      "Iteration:  100  Error:  6.712009515922777\n",
      "Neuronios: 5 Learning Rate: 0.4, Momentum: 0.9. Score: 1.7332473890584834\n",
      "Iteration:  0  Error:  15.788893877835433\n",
      "Iteration:  100  Error:  12.921309010741183\n",
      "Neuronios: 10 Learning Rate: 0.1, Momentum: 0.3. Score: 4.171406486194465\n",
      "Iteration:  0  Error:  261.1149470484721\n",
      "Iteration:  100  Error:  13.94793021446551\n",
      "Neuronios: 10 Learning Rate: 0.1, Momentum: 0.4. Score: 4.551636549396607\n",
      "Iteration:  0  Error:  170.978164155265\n",
      "Iteration:  100  Error:  11.969067406573314\n",
      "Neuronios: 10 Learning Rate: 0.1, Momentum: 0.9. Score: 3.084451490456476\n",
      "Iteration:  0  Error:  226.99870892461132\n",
      "Iteration:  100  Error:  12.714958375500904\n",
      "Neuronios: 10 Learning Rate: 0.15, Momentum: 0.3. Score: 4.044910091991812\n",
      "Iteration:  0  Error:  142.0335084523669\n",
      "Iteration:  100  Error:  12.529318007713949\n",
      "Neuronios: 10 Learning Rate: 0.15, Momentum: 0.4. Score: 3.925234577569036\n",
      "Iteration:  0  Error:  186.77067922456894\n",
      "Iteration:  100  Error:  9.884351962834169\n",
      "Neuronios: 10 Learning Rate: 0.15, Momentum: 0.9. Score: 2.278205569239245\n",
      "Iteration:  0  Error:  15.827777114540535\n",
      "Iteration:  100  Error:  13.455725076069495\n",
      "Neuronios: 10 Learning Rate: 0.25, Momentum: 0.3. Score: 4.274339830735849\n",
      "Iteration:  0  Error:  448.97494501077273\n",
      "Iteration:  100  Error:  13.002771835489309\n",
      "Neuronios: 10 Learning Rate: 0.25, Momentum: 0.4. Score: 4.061164983454555\n",
      "Iteration:  0  Error:  15.334557673353537\n",
      "Iteration:  100  Error:  7.53134166935619\n",
      "Neuronios: 10 Learning Rate: 0.25, Momentum: 0.9. Score: 1.8550705203513234\n",
      "Iteration:  0  Error:  84.44559127238463\n",
      "Iteration:  100  Error:  11.084208007420553\n",
      "Neuronios: 10 Learning Rate: 0.4, Momentum: 0.3. Score: 3.1100396620898723\n",
      "Iteration:  0  Error:  262.2717877840947\n",
      "Iteration:  100  Error:  11.768697881467284\n",
      "Neuronios: 10 Learning Rate: 0.4, Momentum: 0.4. Score: 3.412541000262962\n",
      "Iteration:  0  Error:  121.87033958327314\n",
      "Iteration:  100  Error:  6.065102772575685\n",
      "Neuronios: 10 Learning Rate: 0.4, Momentum: 0.9. Score: 1.7880630858829183\n",
      "Iteration:  0  Error:  181.73812240918954\n",
      "Iteration:  100  Error:  12.707720112616263\n",
      "Neuronios: 15 Learning Rate: 0.1, Momentum: 0.3. Score: 4.0299387478193776\n",
      "Iteration:  0  Error:  128.6070297040091\n",
      "Iteration:  100  Error:  13.069430688226628\n",
      "Neuronios: 15 Learning Rate: 0.1, Momentum: 0.4. Score: 4.0828645609675975\n",
      "Iteration:  0  Error:  47.50506080679451\n",
      "Iteration:  100  Error:  10.222407785831066\n",
      "Neuronios: 15 Learning Rate: 0.1, Momentum: 0.9. Score: 2.491784455788326\n",
      "Iteration:  0  Error:  15.53697716169692\n",
      "Iteration:  100  Error:  13.715035100044283\n",
      "Neuronios: 15 Learning Rate: 0.15, Momentum: 0.3. Score: 4.2379062220842005\n",
      "Iteration:  0  Error:  75.59530999988476\n",
      "Iteration:  100  Error:  13.459135964923686\n",
      "Neuronios: 15 Learning Rate: 0.15, Momentum: 0.4. Score: 4.196670912650771\n",
      "Iteration:  0  Error:  74.01574250922633\n",
      "Iteration:  100  Error:  8.9982038463242\n",
      "Neuronios: 15 Learning Rate: 0.15, Momentum: 0.9. Score: 2.0803211343990937\n",
      "Iteration:  0  Error:  131.4148726386096\n",
      "Iteration:  100  Error:  11.412298180501182\n",
      "Neuronios: 15 Learning Rate: 0.25, Momentum: 0.3. Score: 3.362829829182884\n",
      "Iteration:  0  Error:  14.934494278854109\n",
      "Iteration:  100  Error:  12.449864553630265\n",
      "Neuronios: 15 Learning Rate: 0.25, Momentum: 0.4. Score: 3.770458483366105\n",
      "Iteration:  0  Error:  96.38380014126525\n",
      "Iteration:  100  Error:  6.541977495570667\n",
      "Neuronios: 15 Learning Rate: 0.25, Momentum: 0.9. Score: 1.7934516621841012\n",
      "Iteration:  0  Error:  20.410077840525517\n",
      "Iteration:  100  Error:  9.337667661349606\n",
      "Neuronios: 15 Learning Rate: 0.4, Momentum: 0.3. Score: 2.5359110720587075\n",
      "Iteration:  0  Error:  312.98888751344407\n",
      "Iteration:  100  Error:  12.129267386660814\n",
      "Neuronios: 15 Learning Rate: 0.4, Momentum: 0.4. Score: 3.184224516737773\n",
      "Iteration:  0  Error:  183.2542036532529\n",
      "Iteration:  100  Error:  5.569408063554867\n",
      "Neuronios: 15 Learning Rate: 0.4, Momentum: 0.9. Score: 1.72285092943673\n"
     ]
    }
   ],
   "source": [
    "neuronios = [3, 5, 10, 15]\n",
    "learning_rate = [0.1, 0.15, 0.25, 0.4]\n",
    "momentum = [0.3, 0.4, 0.9]\n",
    "\n",
    "result = []\n",
    "\n",
    "elected = None\n",
    "\n",
    "for n in neuronios:\n",
    "    for l in learning_rate:\n",
    "        for m in momentum:\n",
    "            net = MLP(_X_train, _y_train, n, eta=l, niterations=200, momentum=m, outtype=\"linear\")\n",
    "            net.fit(_X_train, _y_train, X_val, y_val)\n",
    "            result.append([net, np.min(net.errors_valid)])\n",
    "            print(\"Neuronios: {} Learning Rate: {}, Momentum: {}. Score: {}\".format(n, l, m, np.min(net.errors_valid)))\n",
    "\n",
    "elected = result[np.argmin(np.array(result)[:, 1])][0]"
   ],
   "metadata": {
    "collapsed": false,
    "pycharm": {
     "name": "#%%\n"
    }
   }
  },
  {
   "cell_type": "code",
   "execution_count": 12,
   "outputs": [
    {
     "name": "stdout",
     "output_type": "stream",
     "text": [
      "Iteration:  0  Error:  0.446294192115839\n",
      "Iteration:  100  Error:  0.13007650852010758\n",
      "Iteration:  200  Error:  0.12713332428491295\n"
     ]
    },
    {
     "data": {
      "text/plain": "<Figure size 432x288 with 1 Axes>",
      "image/png": "[encoded data removed]"
     },
     "metadata": {
      "needs_background": "light"
     },
     "output_type": "display_data"
    },
    {
     "name": "stdout",
     "output_type": "stream",
     "text": [
      "Iteration:  0  Error:  0.23518687586477385\n",
      "Iteration:  100  Error:  0.017929764278381135\n",
      "Iteration:  200  Error:  0.016270874711252374\n"
     ]
    },
    {
     "data": {
      "text/plain": "<Figure size 432x288 with 1 Axes>",
      "image/png": "[encoded data removed]"
     },
     "metadata": {
      "needs_background": "light"
     },
     "output_type": "display_data"
    },
    {
     "name": "stdout",
     "output_type": "stream",
     "text": [
      "Iteration:  0  Error:  0.35528967462895006\n",
      "Iteration:  100  Error:  0.10946198399394147\n",
      "Iteration:  200  Error:  0.10349116890864413\n"
     ]
    },
    {
     "data": {
      "text/plain": "<Figure size 432x288 with 1 Axes>",
      "image/png": "[encoded data removed]"
     },
     "metadata": {
      "needs_background": "light"
     },
     "output_type": "display_data"
    }
   ],
   "source": [
    "metrics = [\n",
    "    (\"RMSE\", RMSE()),\n",
    "    (\"MSE\", MSE()),\n",
    "    (\"MSE\", MAE())\n",
    "]\n",
    "\n",
    "for name, metric in metrics:\n",
    "    net = MLP(_X_train, _y_train, elected.nhidden, eta=elected.eta, niterations=201, momentum=elected.momentum,outtype=\"linear\", metric=metric)\n",
    "    net.fit(_X_train, _y_train, X_test, y_test)\n",
    "    plt.plot(net.errors_valid)\n",
    "    plt.plot(net.errors_train)\n",
    "    plt.show()"
   ],
   "metadata": {
    "collapsed": false,
    "pycharm": {
     "name": "#%%\n"
    }
   }
  }
 ],
 "metadata": {
  "kernelspec": {
   "display_name": "Python 3",
   "language": "python",
   "name": "python3"
  },
  "language_info": {
   "codemirror_mode": {
    "name": "ipython",
    "version": 2
   },
   "file_extension": ".py",
   "mimetype": "text/x-python",
   "name": "python",
   "nbconvert_exporter": "python",
   "pygments_lexer": "ipython2",
   "version": "2.7.6"
  }
 },
 "nbformat": 4,
 "nbformat_minor": 0
}