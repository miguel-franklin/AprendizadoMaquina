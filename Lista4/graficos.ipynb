{
 "cells": [
  {
   "cell_type": "code",
   "execution_count": 42,
   "outputs": [],
   "source": [
    "import numpy as np\n",
    "from sklearn.neural_network import MLPRegressor\n",
    "from sklearn.model_selection import train_test_split"
   ],
   "metadata": {
    "collapsed": false,
    "pycharm": {
     "name": "#%%\n"
    }
   }
  },
  {
   "cell_type": "code",
   "execution_count": 43,
   "outputs": [],
   "source": [
    "df = np.genfromtxt('./concrete.csv', delimiter=',')\n",
    "X = df[:, :-1]\n",
    "y = df[:, -1]"
   ],
   "metadata": {
    "collapsed": false,
    "pycharm": {
     "name": "#%%\n"
    }
   }
  },
  {
   "cell_type": "code",
   "execution_count": 27,
   "outputs": [
    {
     "data": {
      "text/plain": "array([79.99, 61.89, 40.27, ..., 23.7 , 32.77, 32.4 ])"
     },
     "execution_count": 27,
     "metadata": {},
     "output_type": "execute_result"
    }
   ],
   "source": [
    "y"
   ],
   "metadata": {
    "collapsed": false,
    "pycharm": {
     "name": "#%%\n"
    }
   }
  },
  {
   "cell_type": "code",
   "execution_count": 33,
   "outputs": [],
   "source": [
    "X_train, X_test, y_train, y_test = train_test_split(X, y, test_size=0.2, random_state=1)\n",
    "X_train, X_val, y_train, y_val = train_test_split(X_train, y_train, test_size=0.2, random_state=1) # 0.25 x 0.8 = 0.2"
   ],
   "metadata": {
    "collapsed": false,
    "pycharm": {
     "name": "#%%\n"
    }
   }
  },
  {
   "cell_type": "code",
   "execution_count": 34,
   "outputs": [],
   "source": [
    "cls = MLPRegressor(activation=\"tanh\", solver=\"sgd\", max_iter=5000).fit(X_train, y_train)"
   ],
   "metadata": {
    "collapsed": false,
    "pycharm": {
     "name": "#%%\n"
    }
   }
  },
  {
   "cell_type": "code",
   "execution_count": 35,
   "outputs": [
    {
     "data": {
      "text/plain": "-0.027381988918926403"
     },
     "execution_count": 35,
     "metadata": {},
     "output_type": "execute_result"
    }
   ],
   "source": [
    "cls.score(X_test, y_test)"
   ],
   "metadata": {
    "collapsed": false,
    "pycharm": {
     "name": "#%%\n"
    }
   }
  },
  {
   "cell_type": "code",
   "execution_count": null,
   "outputs": [],
   "source": [
    "import warnings\n",
    "\n",
    "import matplotlib.pyplot as plt\n",
    "\n",
    "from sklearn.neural_network import MLPClassifier\n",
    "from sklearn.preprocessing import MinMaxScaler\n",
    "from sklearn import datasets\n",
    "from sklearn.exceptions import ConvergenceWarning\n",
    "\n",
    "# different learning rate schedules and momentum parameters\n",
    "params = [\n",
    "    {\n",
    "        \"solver\": \"sgd\",\n",
    "        \"learning_rate\": \"constant\",\n",
    "        \"momentum\": 0,\n",
    "        \"learning_rate_init\": 0.2,\n",
    "    },\n",
    "    {\n",
    "        \"solver\": \"sgd\",\n",
    "        \"learning_rate\": \"constant\",\n",
    "        \"momentum\": 0.9,\n",
    "        \"nesterovs_momentum\": False,\n",
    "        \"learning_rate_init\": 0.2,\n",
    "    },\n",
    "    {\n",
    "        \"solver\": \"sgd\",\n",
    "        \"learning_rate\": \"constant\",\n",
    "        \"momentum\": 0.9,\n",
    "        \"nesterovs_momentum\": True,\n",
    "        \"learning_rate_init\": 0.2,\n",
    "    },\n",
    "    {\n",
    "        \"solver\": \"sgd\",\n",
    "        \"learning_rate\": \"invscaling\",\n",
    "        \"momentum\": 0,\n",
    "        \"learning_rate_init\": 0.2,\n",
    "    },\n",
    "    {\n",
    "        \"solver\": \"sgd\",\n",
    "        \"learning_rate\": \"invscaling\",\n",
    "        \"momentum\": 0.9,\n",
    "        \"nesterovs_momentum\": True,\n",
    "        \"learning_rate_init\": 0.2,\n",
    "    },\n",
    "    {\n",
    "        \"solver\": \"sgd\",\n",
    "        \"learning_rate\": \"invscaling\",\n",
    "        \"momentum\": 0.9,\n",
    "        \"nesterovs_momentum\": False,\n",
    "        \"learning_rate_init\": 0.2,\n",
    "    },\n",
    "    {\"solver\": \"adam\", \"learning_rate_init\": 0.01},\n",
    "]\n",
    "\n",
    "labels = [\n",
    "    \"constant learning-rate\",\n",
    "    \"constant with momentum\",\n",
    "    \"constant with Nesterov's momentum\",\n",
    "    \"inv-scaling learning-rate\",\n",
    "    \"inv-scaling with momentum\",\n",
    "    \"inv-scaling with Nesterov's momentum\",\n",
    "    \"adam\",\n",
    "]\n",
    "\n",
    "plot_args = [\n",
    "    {\"c\": \"red\", \"linestyle\": \"-\"},\n",
    "    {\"c\": \"green\", \"linestyle\": \"-\"},\n",
    "    {\"c\": \"blue\", \"linestyle\": \"-\"},\n",
    "    {\"c\": \"red\", \"linestyle\": \"--\"},\n",
    "    {\"c\": \"green\", \"linestyle\": \"--\"},\n",
    "    {\"c\": \"blue\", \"linestyle\": \"--\"},\n",
    "    {\"c\": \"black\", \"linestyle\": \"-\"},\n",
    "]\n",
    "\n",
    "\n",
    "def plot_on_dataset(X, y, ax, name):\n",
    "    # for each dataset, plot learning for each learning strategy\n",
    "    print(\"\\nlearning on dataset %s\" % name)\n",
    "    ax.set_title(name)\n",
    "\n",
    "    X = MinMaxScaler().fit_transform(X)\n",
    "    mlps = []\n",
    "    if name == \"digits\":\n",
    "        # digits is larger but converges fairly quickly\n",
    "        max_iter = 15\n",
    "    else:\n",
    "        max_iter = 400\n",
    "\n",
    "    for label, param in zip(labels, params):\n",
    "        print(\"training: %s\" % label)\n",
    "        mlp = MLPRegressor(random_state=0, max_iter=max_iter, **param)\n",
    "\n",
    "        # some parameter combinations will not converge as can be seen on the\n",
    "        # plots so they are ignored here\n",
    "        with warnings.catch_warnings():\n",
    "            warnings.filterwarnings(\n",
    "                \"ignore\", category=ConvergenceWarning, module=\"sklearn\"\n",
    "            )\n",
    "            mlp.fit(X, y)\n",
    "\n",
    "        mlps.append(mlp)\n",
    "        print(\"Training set score: %f\" % mlp.score(X, y))\n",
    "        print(\"Training set loss: %f\" % mlp.loss_)\n",
    "    for mlp, label, args in zip(mlps, labels, plot_args):\n",
    "        ax.plot(mlp.loss_curve_, label=label, **args)\n",
    "\n",
    "\n",
    "fig, axes = plt.subplots(2, 2, figsize=(15, 10))\n",
    "plot_on_dataset(X, y, axes, name=\"concrete\")\n",
    "\n",
    "plt.show()"
   ],
   "metadata": {
    "collapsed": false,
    "pycharm": {
     "name": "#%%\n"
    }
   }
  },
  {
   "cell_type": "code",
   "execution_count": 52,
   "outputs": [
    {
     "name": "stdout",
     "output_type": "stream",
     "text": [
      "\n",
      "learning on dataset concrete\n",
      "training: constant learning-rate\n",
      "Training set score: -0.000190\n",
      "Training set loss: 139.557192\n",
      "training: constant with momentum\n",
      "Training set score: -0.001038\n",
      "Training set loss: 140.736917\n",
      "training: constant with Nesterov's momentum\n",
      "Training set score: -0.000003\n",
      "Training set loss: 163.130463\n",
      "training: inv-scaling learning-rate\n",
      "Training set score: 0.584403\n",
      "Training set loss: 57.944249\n",
      "training: inv-scaling with momentum\n",
      "Training set score: -0.000048\n",
      "Training set loss: 160.225984\n",
      "training: inv-scaling with Nesterov's momentum\n",
      "Training set score: -0.000022\n",
      "Training set loss: 139.613620\n",
      "training: adam\n",
      "Training set score: 0.614400\n",
      "Training set loss: 53.758821\n"
     ]
    },
    {
     "data": {
      "text/plain": "<Figure size 1080x720 with 1 Axes>",
      "image/png": "[encoded data removed]"
     },
     "metadata": {
      "needs_background": "light"
     },
     "output_type": "display_data"
    }
   ],
   "source": [
    "import warnings\n",
    "\n",
    "import matplotlib.pyplot as plt\n",
    "\n",
    "from sklearn.neural_network import MLPClassifier\n",
    "from sklearn.preprocessing import MinMaxScaler\n",
    "from sklearn.exceptions import ConvergenceWarning\n",
    "\n",
    "# different learning rate schedules and momentum parameters\n",
    "params = [\n",
    "    {\n",
    "        \"solver\": \"sgd\",\n",
    "        \"learning_rate\": \"constant\",\n",
    "        \"momentum\": 0,\n",
    "        \"learning_rate_init\": 0.2,\n",
    "    },\n",
    "    {\n",
    "        \"solver\": \"sgd\",\n",
    "        \"learning_rate\": \"constant\",\n",
    "        \"momentum\": 0.9,\n",
    "        \"nesterovs_momentum\": False,\n",
    "        \"learning_rate_init\": 0.2,\n",
    "    },\n",
    "    {\n",
    "        \"solver\": \"sgd\",\n",
    "        \"learning_rate\": \"constant\",\n",
    "        \"momentum\": 0.9,\n",
    "        \"nesterovs_momentum\": True,\n",
    "        \"learning_rate_init\": 0.2,\n",
    "    },\n",
    "    {\n",
    "        \"solver\": \"sgd\",\n",
    "        \"learning_rate\": \"invscaling\",\n",
    "        \"momentum\": 0,\n",
    "        \"learning_rate_init\": 0.2,\n",
    "    },\n",
    "    {\n",
    "        \"solver\": \"sgd\",\n",
    "        \"learning_rate\": \"invscaling\",\n",
    "        \"momentum\": 0.9,\n",
    "        \"nesterovs_momentum\": True,\n",
    "        \"learning_rate_init\": 0.2,\n",
    "    },\n",
    "    {\n",
    "        \"solver\": \"sgd\",\n",
    "        \"learning_rate\": \"invscaling\",\n",
    "        \"momentum\": 0.9,\n",
    "        \"nesterovs_momentum\": False,\n",
    "        \"learning_rate_init\": 0.2,\n",
    "    },\n",
    "    {\"solver\": \"adam\", \"learning_rate_init\": 0.01},\n",
    "]\n",
    "\n",
    "labels = [\n",
    "    \"constant learning-rate\",\n",
    "    \"constant with momentum\",\n",
    "    \"constant with Nesterov's momentum\",\n",
    "    \"inv-scaling learning-rate\",\n",
    "    \"inv-scaling with momentum\",\n",
    "    \"inv-scaling with Nesterov's momentum\",\n",
    "    \"adam\",\n",
    "]\n",
    "\n",
    "plot_args = [\n",
    "    {\"c\": \"red\", \"linestyle\": \"-\"},\n",
    "    {\"c\": \"green\", \"linestyle\": \"-\"},\n",
    "    {\"c\": \"blue\", \"linestyle\": \"-\"},\n",
    "    {\"c\": \"red\", \"linestyle\": \"--\"},\n",
    "    {\"c\": \"green\", \"linestyle\": \"--\"},\n",
    "    {\"c\": \"blue\", \"linestyle\": \"--\"},\n",
    "    {\"c\": \"black\", \"linestyle\": \"-\"},\n",
    "]\n",
    "\n",
    "\n",
    "def plot_on_dataset(X, y, ax, name):\n",
    "    # for each dataset, plot learning for each learning strategy\n",
    "    print(\"\\nlearning on dataset %s\" % name)\n",
    "    ax.set_title(name)\n",
    "\n",
    "    X = MinMaxScaler().fit_transform(X)\n",
    "    mlps = []\n",
    "    max_iter = 600\n",
    "\n",
    "    for label, param in zip(labels, params):\n",
    "        print(\"training: %s\" % label)\n",
    "        mlp = MLPRegressor(random_state=0, max_iter=max_iter, **param)\n",
    "\n",
    "        # some parameter combinations will not converge as can be seen on the\n",
    "        # plots so they are ignored here\n",
    "        with warnings.catch_warnings():\n",
    "            warnings.filterwarnings(\n",
    "                \"ignore\", category=ConvergenceWarning, module=\"sklearn\"\n",
    "            )\n",
    "            mlp.fit(X, y)\n",
    "\n",
    "        mlps.append(mlp)\n",
    "        print(\"Training set score: %f\" % mlp.score(X, y))\n",
    "        print(\"Training set loss: %f\" % mlp.loss_)\n",
    "    for mlp, label, args in zip(mlps, labels, plot_args):\n",
    "        ax.plot(mlp.loss_curve_, label=label, **args)\n",
    "\n",
    "\n",
    "fig, axes = plt.subplots(2, 2, figsize=(15, 10))\n",
    "\n",
    "\n",
    "plot_on_dataset(X, y, ax=axes, name=\"concrete\")\n",
    "\n",
    "fig.legend(axes.get_lines(), labels, ncol=3, loc=\"upper center\")\n",
    "plt.show()"
   ],
   "metadata": {
    "collapsed": false,
    "pycharm": {
     "name": "#%%\n"
    }
   }
  },
  {
   "cell_type": "code",
   "execution_count": null,
   "outputs": [],
   "source": [],
   "metadata": {
    "collapsed": false,
    "pycharm": {
     "name": "#%%\n"
    }
   }
  }
 ],
 "metadata": {
  "kernelspec": {
   "display_name": "Python 3",
   "language": "python",
   "name": "python3"
  },
  "language_info": {
   "codemirror_mode": {
    "name": "ipython",
    "version": 2
   },
   "file_extension": ".py",
   "mimetype": "text/x-python",
   "name": "python",
   "nbconvert_exporter": "python",
   "pygments_lexer": "ipython2",
   "version": "2.7.6"
  }
 },
 "nbformat": 4,
 "nbformat_minor": 0
}