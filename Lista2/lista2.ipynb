{
 "cells": [
  {
   "cell_type": "code",
   "execution_count": 1,
   "outputs": [],
   "source": [
    "import numpy as np\n",
    "df = np.genfromtxt('./breastcancer.csv', delimiter=',')\n",
    "from sklearn.model_selection import KFold\n",
    "from models.classifiers.LogisticRegression import LogisticRegression\n",
    "from models.classifiers.adg import ADG\n",
    "from models.classifiers.naive_gauss import NaiveGauss\n",
    "from models.treinamento import GD, SGD\n",
    "from models.metrics.metrics_factory import measure_all, print_result"
   ],
   "metadata": {
    "collapsed": false,
    "pycharm": {
     "name": "#%%\n"
    }
   }
  },
  {
   "cell_type": "code",
   "execution_count": 2,
   "outputs": [],
   "source": [
    "x = df[:, :-1]\n",
    "y = df[:, -1]"
   ],
   "metadata": {
    "collapsed": false,
    "pycharm": {
     "name": "#%%\n"
    }
   }
  },
  {
   "cell_type": "code",
   "execution_count": 3,
   "outputs": [],
   "source": [
    "kf = KFold(n_splits=10)"
   ],
   "metadata": {
    "collapsed": false,
    "pycharm": {
     "name": "#%%\n"
    }
   }
  },
  {
   "cell_type": "code",
   "execution_count": 4,
   "outputs": [],
   "source": [
    "lr_gd_results = []\n",
    "lr_sgd_results = []\n",
    "agd_results = []\n",
    "ng_results = []\n",
    "\n",
    "for train_index, test_index in kf.split(x):\n",
    "    x_train, x_test = x[train_index], x[test_index]\n",
    "    y_train, y_test = y[train_index], y[test_index]\n",
    "\n",
    "    lr = LogisticRegression()\n",
    "    weights, errors = lr.fit(x_train, y_train, GD)\n",
    "    y_test_result = lr.predict(x_test, lr.weights)\n",
    "    lr_gd_results.append(measure_all(y_test, y_test_result))\n",
    "\n",
    "    lr = LogisticRegression()\n",
    "    weights, errors = lr.fit(x_train, y_train, SGD)\n",
    "    y_test_result = lr.predict(x_test, lr.weights)\n",
    "    lr_sgd_results.append(measure_all(y_test, y_test_result))\n",
    "\n",
    "    _y_train = y_train.astype(int).squeeze()\n",
    "    _y_test = y_test.astype(int).squeeze()\n",
    "\n",
    "    adg = ADG()\n",
    "    adg.fit(x_train, _y_train)\n",
    "    y_test_result = adg.predict(x_test)\n",
    "    agd_results.append(measure_all(_y_test, y_test_result))\n",
    "\n",
    "    ng = NaiveGauss()\n",
    "    ng.fit(x_train, _y_train)\n",
    "    y_test_result = ng.predict(x_test)\n",
    "    ng_results.append(measure_all(_y_test, y_test_result))"
   ],
   "metadata": {
    "collapsed": false,
    "pycharm": {
     "name": "#%%\n"
    }
   }
  },
  {
   "cell_type": "code",
   "execution_count": 6,
   "outputs": [
    {
     "name": "stdout",
     "output_type": "stream",
     "text": [
      "Modelo: Logistic Regression - GD, F1 Score: 0.6455529188776631\n",
      "Modelo: Logistic Regression - GD, Accuracy: 0.586666541039315\n",
      "Modelo: Logistic Regression - GD, Precision: 0.6276629072681705\n",
      "Modelo: Logistic Regression - GD, Recall: 0.6715538847117795\n"
     ]
    }
   ],
   "source": [
    "print_result(\"Logistic Regression - GD\", lr_gd_results)"
   ],
   "metadata": {
    "collapsed": false,
    "pycharm": {
     "name": "#%%\n"
    }
   }
  },
  {
   "cell_type": "code",
   "execution_count": 7,
   "outputs": [
    {
     "name": "stdout",
     "output_type": "stream",
     "text": [
      "Modelo: Logistic Regression - SGD, F1 Score: 0.6384485220588296\n",
      "Modelo: Logistic Regression - SGD, Accuracy: 0.589772696936577\n",
      "Modelo: Logistic Regression - SGD, Precision: 0.6276629072681705\n",
      "Modelo: Logistic Regression - SGD, Recall: 0.6522243107769422\n"
     ]
    }
   ],
   "source": [
    "print_result(\"Logistic Regression - SGD\", lr_sgd_results)"
   ],
   "metadata": {
    "collapsed": false,
    "pycharm": {
     "name": "#%%\n"
    }
   }
  },
  {
   "cell_type": "code",
   "execution_count": 8,
   "outputs": [
    {
     "name": "stdout",
     "output_type": "stream",
     "text": [
      "Modelo: AGD, F1 Score: 0.9625588218124477\n",
      "Modelo: AGD, Accuracy: 0.9578320802005011\n",
      "Modelo: AGD, Precision: 0.9568451310285055\n",
      "Modelo: AGD, Recall: 0.9702912627867153\n"
     ]
    }
   ],
   "source": [
    "print_result(\"AGD\", agd_results)"
   ],
   "metadata": {
    "collapsed": false,
    "pycharm": {
     "name": "#%%\n"
    }
   }
  },
  {
   "cell_type": "code",
   "execution_count": 9,
   "outputs": [
    {
     "name": "stdout",
     "output_type": "stream",
     "text": [
      "Modelo: Naive Bayes, F1 Score: 0.9308013248954723\n",
      "Modelo: Naive Bayes, Accuracy: 0.9262218045112782\n",
      "Modelo: Naive Bayes, Precision: 0.9186572000796138\n",
      "Modelo: Naive Bayes, Recall: 0.9506624267650731\n"
     ]
    }
   ],
   "source": [
    "print_result(\"Naive Bayes\", ng_results)"
   ],
   "metadata": {
    "collapsed": false,
    "pycharm": {
     "name": "#%%\n"
    }
   }
  },
  {
   "cell_type": "code",
   "execution_count": null,
   "outputs": [],
   "source": [],
   "metadata": {
    "collapsed": false,
    "pycharm": {
     "name": "#%%\n"
    }
   }
  }
 ],
 "metadata": {
  "kernelspec": {
   "display_name": "Python 3",
   "language": "python",
   "name": "python3"
  },
  "language_info": {
   "codemirror_mode": {
    "name": "ipython",
    "version": 2
   },
   "file_extension": ".py",
   "mimetype": "text/x-python",
   "name": "python",
   "nbconvert_exporter": "python",
   "pygments_lexer": "ipython2",
   "version": "2.7.6"
  }
 },
 "nbformat": 4,
 "nbformat_minor": 0
}